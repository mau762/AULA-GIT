{
  "nbformat": 4,
  "nbformat_minor": 0,
  "metadata": {
    "colab": {
      "provenance": [],
      "authorship_tag": "ABX9TyO2ZhuoE7W/EDxCtfgJ8cUY",
      "include_colab_link": true
    },
    "kernelspec": {
      "name": "python3",
      "display_name": "Python 3"
    },
    "language_info": {
      "name": "python"
    }
  },
  "cells": [
    {
      "cell_type": "markdown",
      "metadata": {
        "id": "view-in-github",
        "colab_type": "text"
      },
      "source": [
        "<a href=\"https://colab.research.google.com/github/mau762/AULA-GIT/blob/main/Atividade_Produto_Mauricio.ipynb\" target=\"_parent\"><img src=\"https://colab.research.google.com/assets/colab-badge.svg\" alt=\"Open In Colab\"/></a>"
      ]
    },
    {
      "cell_type": "code",
      "execution_count": 11,
      "metadata": {
        "colab": {
          "base_uri": "https://localhost:8080/"
        },
        "id": "7-zE_B39IEnc",
        "outputId": "f9a01c42-f68b-4618-b2da-bf2594a83a19"
      },
      "outputs": [
        {
          "output_type": "stream",
          "name": "stdout",
          "text": [
            "Eletronico 1:\n",
            "Código: 1, Descrição: Smartphone, Valor: 1500.0\n",
            "Voltagem: 220\n",
            "\n",
            "Eletronico 2:\n",
            "Código: 2, Descrição: Televisão, Valor: 3000.0\n",
            "Voltagem: 110\n",
            "\n",
            "Calcado 1:\n",
            "Código: 3, Descrição: Tênis, Valor: 200.0\n",
            "Nome: Nike, Cor: Preto, Tamanho: 42\n",
            "Material Sola: Borracha, Material Parte Superior: Sintético, Material Interno: Tecido\n",
            "\n",
            "Calcado 2:\n",
            "Código: 4, Descrição: Sandália, Valor: 150.0\n",
            "Nome: Havaianas, Cor: Azul, Tamanho: 39\n",
            "Material Sola: Borracha, Material Parte Superior: Plástico, Material Interno: Espuma\n",
            "\n",
            "Roupa 1:\n",
            "Código: 5, Descrição: Camiseta, Valor: 50.0\n",
            "Nome: Camiseta Básica, Cor: Branca, Tamanho: M\n",
            "Tecido: Algodão\n",
            "\n",
            "Roupa 2:\n",
            "Código: 6, Descrição: Calça Jeans, Valor: 120.0\n",
            "Nome: Calça Slim, Cor: Azul, Tamanho: 42\n",
            "Tecido: Denim\n"
          ]
        }
      ],
      "source": [
        "#Questão A: Implemente a estrutura de classe conforme projeto definido anteriormente\n",
        "class Produto:\n",
        "    def __init__(self, codigo: int, descricao: str, valor: float):\n",
        "        self.codigo = codigo\n",
        "        self.descricao = descricao\n",
        "        self.valor = valor\n",
        "\n",
        "    def imprimir(self):\n",
        "        print(f\"Código: {self.codigo}, Descrição: {self.descricao}, Valor: {self.valor}\")\n",
        "\n",
        "class Eletronico(Produto):\n",
        "    def __init__(self, codigo: int, descricao: str, valor: float, voltagem: int):\n",
        "        super().__init__(codigo, descricao, valor)\n",
        "        self.voltagem = voltagem\n",
        "\n",
        "    def imprimir(self):\n",
        "        super().imprimir()\n",
        "        print(f\"Voltagem: {self.voltagem}\")\n",
        "\n",
        "class Vestuario(Produto):\n",
        "    def __init__(self, codigo: int, descricao: str, valor: float, nome: str, cor: str, tamanho: str):\n",
        "        super().__init__(codigo, descricao, valor)\n",
        "        self.nome = nome\n",
        "        self.cor = cor\n",
        "        self.tamanho = tamanho\n",
        "\n",
        "    def imprimir(self):\n",
        "        super().imprimir()\n",
        "        print(f\"Nome: {self.nome}, Cor: {self.cor}, Tamanho: {self.tamanho}\")\n",
        "\n",
        "class Calcado(Vestuario):\n",
        "    def __init__(self, codigo: int, descricao: str, valor: float, nome: str, cor: str, tamanho: str,\n",
        "                 material_sola: str, material_parte_superior: str, material_interno: str):\n",
        "        super().__init__(codigo, descricao, valor, nome, cor, tamanho)\n",
        "        self.material_sola = material_sola\n",
        "        self.material_parte_superior = material_parte_superior\n",
        "        self.material_interno = material_interno\n",
        "\n",
        "    def imprimir(self):\n",
        "        super().imprimir()\n",
        "        print(f\"Material Sola: {self.material_sola}, Material Parte Superior: {self.material_parte_superior}, Material Interno: {self.material_interno}\")\n",
        "\n",
        "class Roupa(Vestuario):\n",
        "    def __init__(self, codigo: int, descricao: str, valor: float, nome: str, cor: str, tamanho: str, tecido: str):\n",
        "        super().__init__(codigo, descricao, valor, nome, cor, tamanho)\n",
        "        self.tecido = tecido\n",
        "\n",
        "    def imprimir(self):\n",
        "        super().imprimir()\n",
        "        print(f\"Tecido: {self.tecido}\")\n",
        "\n",
        "\n",
        "# Questão B: Criando dois objetos para cada classe filho\n",
        "\n",
        "\n",
        "eletronico1 = Eletronico(1, \"Smartphone\", 1500.0, 220)\n",
        "eletronico2 = Eletronico(2, \"Televisão\", 3000.0, 110)\n",
        "\n",
        "\n",
        "calcado1 = Calcado(3, \"Tênis\", 200.0, \"Nike\", \"Preto\", \"42\", \"Borracha\", \"Sintético\", \"Tecido\")\n",
        "calcado2 = Calcado(4, \"Sandália\", 150.0, \"Havaianas\", \"Azul\", \"39\", \"Borracha\", \"Plástico\", \"Espuma\")\n",
        "\n",
        "\n",
        "roupa1 = Roupa(5, \"Camiseta\", 50.0, \"Camiseta Básica\", \"Branca\", \"M\", \"Algodão\")\n",
        "roupa2 = Roupa(6, \"Calça Jeans\", 120.0, \"Calça Slim\", \"Azul\", \"42\", \"Denim\")\n",
        "\n",
        "# Questão C: Imprimindo os atributos de cada objeto\n",
        "print(\"Eletronico 1:\")\n",
        "eletronico1.imprimir()\n",
        "print(\"\\nEletronico 2:\")\n",
        "eletronico2.imprimir()\n",
        "\n",
        "print(\"\\nCalcado 1:\")\n",
        "calcado1.imprimir()\n",
        "print(\"\\nCalcado 2:\")\n",
        "calcado2.imprimir()\n",
        "\n",
        "print(\"\\nRoupa 1:\")\n",
        "roupa1.imprimir()\n",
        "print(\"\\nRoupa 2:\")\n",
        "roupa2.imprimir()\n"
      ]
    }
  ]
}